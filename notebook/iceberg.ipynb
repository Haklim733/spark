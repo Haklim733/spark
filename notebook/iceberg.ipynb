{
 "cells": [
  {
   "cell_type": "code",
   "execution_count": 1,
   "id": "b8b0e34b",
   "metadata": {},
   "outputs": [
    {
     "name": "stdout",
     "output_type": "stream",
     "text": [
      "iceberg\n",
      "rest\n",
      "http://iceberg-rest:8181\n",
      "s3a://iceberg/wh\n",
      "http://minio:9000\n",
      "us-east-1\n",
      "admin\n",
      "password\n"
     ]
    }
   ],
   "source": [
    "from src.utils import create_spark_session\n",
    "spark = create_spark_session(app_name=\"notebook\", catalog=\"iceberg\")\n",
    "print(spark.conf.get(\"spark.sql.defaultCatalog\"))\n",
    "print(spark.conf.get(\"spark.sql.catalog.iceberg.type\"))\n",
    "print(spark.conf.get(\"spark.sql.catalog.iceberg.uri\"))\n",
    "print(spark.conf.get(\"spark.sql.catalog.iceberg.warehouse\"))\n",
    "print(spark.conf.get(\"spark.sql.catalog.iceberg.s3.endpoint\"))\n",
    "print(spark.conf.get(\"spark.sql.catalog.iceberg.s3.region\"))\n",
    "print(spark.conf.get(\"spark.sql.catalog.iceberg.s3.access-key\"))\n",
    "print(spark.conf.get(\"spark.sql.catalog.iceberg.s3.secret-key\"))"
   ]
  },
  {
   "cell_type": "code",
   "execution_count": null,
   "id": "f5e081d7",
   "metadata": {},
   "outputs": [],
   "source": [
    "spark.sql(\"SHOW NAMESPACES\").show()\n"
   ]
  },
  {
   "cell_type": "code",
   "execution_count": null,
   "id": "3630939c",
   "metadata": {},
   "outputs": [],
   "source": [
    "spark.sql(\"SHOW TABLES IN test\").show()\n"
   ]
  },
  {
   "cell_type": "code",
   "execution_count": null,
   "id": "3ee4344e",
   "metadata": {},
   "outputs": [],
   "source": [
    "spark.sql(\"SHOW TABLES IN dataops\").show()\n"
   ]
  },
  {
   "cell_type": "code",
   "execution_count": null,
   "id": "68106e00",
   "metadata": {},
   "outputs": [],
   "source": [
    "spark.sql(\"SHOW TABLES IN energy\").show()"
   ]
  },
  {
   "cell_type": "code",
   "execution_count": null,
   "id": "299894a8",
   "metadata": {},
   "outputs": [],
   "source": [
    "spark.sql(\"DESCRIBE TABLE energy.pv_data\").show()"
   ]
  },
  {
   "cell_type": "code",
   "execution_count": null,
   "id": "2383e104",
   "metadata": {},
   "outputs": [],
   "source": [
    "spark.sql(\"DESCRIBE TABLE test.pv_data\").show()"
   ]
  },
  {
   "cell_type": "code",
   "execution_count": null,
   "id": "0eda95fd",
   "metadata": {},
   "outputs": [],
   "source": [
    "spark.sql(\"SELECT * FROM test.pv_site LIMIT 5\").show()"
   ]
  },
  {
   "cell_type": "code",
   "execution_count": null,
   "id": "ff58dc1a",
   "metadata": {},
   "outputs": [],
   "source": [
    "spark.sql(\"SELECT * FROM dataops.job_logs\").show()"
   ]
  },
  {
   "cell_type": "code",
   "execution_count": null,
   "id": "4b846c46",
   "metadata": {},
   "outputs": [],
   "source": [
    "spark.sql(\"select * from test.docs limit 10\").show()"
   ]
  },
  {
   "cell_type": "code",
   "execution_count": null,
   "id": "4e05feb2",
   "metadata": {},
   "outputs": [],
   "source": [
    "spark.sql(\"select * from legal.documents_snapshot limit 10\").show()\n"
   ]
  },
  {
   "cell_type": "code",
   "execution_count": null,
   "id": "576e3a7f",
   "metadata": {},
   "outputs": [],
   "source": [
    "spark.sql(\"select * from legal.documents_snapshot.refs\").show()"
   ]
  },
  {
   "cell_type": "code",
   "execution_count": null,
   "id": "e6cf3a7b",
   "metadata": {},
   "outputs": [],
   "source": [
    "spark.sql(\"DESCRIBE TABLE legal.documents_snapshot\").show()"
   ]
  },
  {
   "cell_type": "code",
   "execution_count": null,
   "id": "06ca8033",
   "metadata": {},
   "outputs": [],
   "source": [
    "df_branch = spark.read \\\n",
    "    .format(\"iceberg\") \\\n",
    "    .option(\"branch\", \"staging\") \\\n",
    "    .load(\"legal.documents_snapshot\")\n",
    "\n",
    "df_branch.show(truncate=False)"
   ]
  },
  {
   "cell_type": "code",
   "execution_count": null,
   "id": "d9a4a562",
   "metadata": {},
   "outputs": [],
   "source": [
    "spark.sql(f\"\"\"\n",
    "CALL iceberg.system.fast_forward('legal.documents_snapshot', 'main', 'staging')\n",
    "\"\"\")"
   ]
  }
 ],
 "metadata": {
  "kernelspec": {
   "display_name": ".venv",
   "language": "python",
   "name": "python3"
  },
  "language_info": {
   "codemirror_mode": {
    "name": "ipython",
    "version": 3
   },
   "file_extension": ".py",
   "mimetype": "text/x-python",
   "name": "python",
   "nbconvert_exporter": "python",
   "pygments_lexer": "ipython3",
   "version": "3.12.8"
  }
 },
 "nbformat": 4,
 "nbformat_minor": 5
}
