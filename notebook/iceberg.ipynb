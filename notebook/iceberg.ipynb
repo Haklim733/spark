{
 "cells": [
  {
   "cell_type": "code",
   "execution_count": null,
   "id": "b8b0e34b",
   "metadata": {},
   "outputs": [],
   "source": [
    "from src.utils import create_spark_session\n",
    "\n",
    "spark = create_spark_session()"
   ]
  }
 ],
 "metadata": {
  "kernelspec": {
   "display_name": ".venv",
   "language": "python",
   "name": "python3"
  },
  "language_info": {
   "name": "python",
   "version": "3.12.8"
  }
 },
 "nbformat": 4,
 "nbformat_minor": 5
}
