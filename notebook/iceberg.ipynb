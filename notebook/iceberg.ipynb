{
 "cells": [
  {
   "cell_type": "code",
   "execution_count": 9,
   "id": "b8b0e34b",
   "metadata": {},
   "outputs": [],
   "source": [
    "from src.utils import create_spark_session\n",
    "\n",
    "spark = create_spark_session()"
   ]
  },
  {
   "cell_type": "code",
   "execution_count": 13,
   "id": "4b846c46",
   "metadata": {},
   "outputs": [
    {
     "name": "stdout",
     "output_type": "stream",
     "text": [
      "+--------------------+-------------+--------------------+--------------------+--------+---------+-----------------+--------------+--------------------+------------+--------------------+----------------+--------------------+\n",
      "|         document_id|document_type|        generated_at|              source|language|file_size|           method|schema_version|  metadata_file_path|    raw_text|           file_path|        batch_id|              job_id|\n",
      "+--------------------+-------------+--------------------+--------------------+--------+---------+-----------------+--------------+--------------------+------------+--------------------+----------------+--------------------+\n",
      "|00107a29-7ff2-432...|     contract|2025-07-06 20:14:...|soli_legal_docume...|      en|     1460|spark_text_reader|            v1|s3a://raw/docs/le...|text_content|s3a://raw/docs/le...|batch_1751839771|legal_insert_1751...|\n",
      "|16b5c3f9-1d56-45e...|     contract|2025-07-06 20:14:...|soli_legal_docume...|      en|     1460|spark_text_reader|            v1|s3a://raw/docs/le...|text_content|s3a://raw/docs/le...|batch_1751839771|legal_insert_1751...|\n",
      "|063e3b9a-843c-482...|     contract|2025-07-06 20:14:...|soli_legal_docume...|      en|     1460|spark_text_reader|            v1|s3a://raw/docs/le...|text_content|s3a://raw/docs/le...|batch_1751839771|legal_insert_1751...|\n",
      "|4d40378d-7b46-4f7...|     contract|2025-07-06 20:14:...|soli_legal_docume...|      en|     1460|spark_text_reader|            v1|s3a://raw/docs/le...|text_content|s3a://raw/docs/le...|batch_1751839771|legal_insert_1751...|\n",
      "|0177d958-3e60-495...|     contract|2025-07-06 20:14:...|soli_legal_docume...|      en|     1460|spark_text_reader|            v1|s3a://raw/docs/le...|text_content|s3a://raw/docs/le...|batch_1751839771|legal_insert_1751...|\n",
      "|77508b9e-d3c8-47c...|     contract|2025-07-06 20:14:...|soli_legal_docume...|      en|     1460|spark_text_reader|            v1|s3a://raw/docs/le...|text_content|s3a://raw/docs/le...|batch_1751839771|legal_insert_1751...|\n",
      "|772b8644-f753-419...|     contract|2025-07-06 20:14:...|soli_legal_docume...|      en|     1460|spark_text_reader|            v1|s3a://raw/docs/le...|text_content|s3a://raw/docs/le...|batch_1751839771|legal_insert_1751...|\n",
      "|5ab36551-e9d2-4ad...|     contract|2025-07-06 20:14:...|soli_legal_docume...|      en|     1460|spark_text_reader|            v1|s3a://raw/docs/le...|text_content|s3a://raw/docs/le...|batch_1751839771|legal_insert_1751...|\n",
      "|4d67900c-f41f-44c...|     contract|2025-07-06 20:14:...|soli_legal_docume...|      en|     1460|spark_text_reader|            v1|s3a://raw/docs/le...|text_content|s3a://raw/docs/le...|batch_1751839771|legal_insert_1751...|\n",
      "|628f02eb-6de4-481...|     contract|2025-07-06 20:14:...|soli_legal_docume...|      en|     1460|spark_text_reader|            v1|s3a://raw/docs/le...|text_content|s3a://raw/docs/le...|batch_1751839771|legal_insert_1751...|\n",
      "+--------------------+-------------+--------------------+--------------------+--------+---------+-----------------+--------------+--------------------+------------+--------------------+----------------+--------------------+\n",
      "\n"
     ]
    }
   ],
   "source": [
    "spark.sql(\"select * from legal.documents limit 10\").show()"
   ]
  },
  {
   "cell_type": "code",
   "execution_count": 14,
   "id": "f0b829cb",
   "metadata": {},
   "outputs": [
    {
     "name": "stdout",
     "output_type": "stream",
     "text": [
      "+---------------+\n",
      "|  document_type|\n",
      "+---------------+\n",
      "|  legal_opinion|\n",
      "|     legal_memo|\n",
      "|       contract|\n",
      "|   court_filing|\n",
      "|policy_document|\n",
      "+---------------+\n",
      "\n"
     ]
    }
   ],
   "source": [
    "spark.sql(\"SELECT distinct(document_type) FROM legal.documents\").show()"
   ]
  },
  {
   "cell_type": "code",
   "execution_count": 15,
   "id": "619786b7",
   "metadata": {},
   "outputs": [
    {
     "name": "stdout",
     "output_type": "stream",
     "text": [
      "+--------------------+----------------+--------+\n",
      "|              job_id|        batch_id|count(1)|\n",
      "+--------------------+----------------+--------+\n",
      "|legal_insert_1751...|batch_1751839771|     100|\n",
      "+--------------------+----------------+--------+\n",
      "\n"
     ]
    }
   ],
   "source": [
    "spark.sql(\"SELECT job_id, batch_id, count(*) FROM legal.documents GROUP BY job_id, batch_id\").show()"
   ]
  },
  {
   "cell_type": "code",
   "execution_count": null,
   "id": "155536cd",
   "metadata": {},
   "outputs": [
    {
     "ename": "SyntaxError",
     "evalue": "invalid syntax (1435888384.py, line 1)",
     "output_type": "error",
     "traceback": [
      "  \u001b[36mCell\u001b[39m\u001b[36m \u001b[39m\u001b[32mIn[20]\u001b[39m\u001b[32m, line 1\u001b[39m\n\u001b[31m    \u001b[39m\u001b[31mresult = spark.sql(\"SELECT raw_text FROM legal.documents WHERE document_type = 'contract' LIMIT 1\").\u001b[39m\n                                                                                                        ^\n\u001b[31mSyntaxError\u001b[39m\u001b[31m:\u001b[39m invalid syntax\n"
     ]
    }
   ],
   "source": [
    "result = spark.sql(\"SELECT raw_text FROM legal.documents WHERE document_type = 'contract' LIMIT 1\")\n",
    "result.show(truncate=False)"
   ]
  }
 ],
 "metadata": {
  "kernelspec": {
   "display_name": ".venv",
   "language": "python",
   "name": "python3"
  },
  "language_info": {
   "codemirror_mode": {
    "name": "ipython",
    "version": 3
   },
   "file_extension": ".py",
   "mimetype": "text/x-python",
   "name": "python",
   "nbconvert_exporter": "python",
   "pygments_lexer": "ipython3",
   "version": "3.12.8"
  }
 },
 "nbformat": 4,
 "nbformat_minor": 5
}
