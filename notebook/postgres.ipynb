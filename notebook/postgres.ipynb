{
 "cells": [
  {
   "cell_type": "code",
   "execution_count": null,
   "id": "e019ec91",
   "metadata": {},
   "outputs": [],
   "source": [
    "import duckdb\n",
    "con = duckdb.connect()\n",
    "con.execute(\"INSTALL postgres\")\n",
    "con.execute(\"LOAD postgres\")\n",
    "\n",
    "con.execute(\"\"\"\n",
    "    ATTACH 'host=localhost port=5432 user=admin password=password dbname=sqlmesh'\n",
    "    AS postgres_db (TYPE postgres)\n",
    "\"\"\")\n"
   ]
  },
  {
   "cell_type": "code",
   "execution_count": null,
   "id": "d55e55d1",
   "metadata": {},
   "outputs": [],
   "source": [
    "con.sql(\"SHOW ALL TABLES\").show()"
   ]
  },
  {
   "cell_type": "code",
   "execution_count": null,
   "id": "1e3154fa",
   "metadata": {},
   "outputs": [],
   "source": [
    "\n",
    "con.sql(\"SELECT * FROM postgres_db.sqlmesh._snapshots\").show"
   ]
  }
 ],
 "metadata": {
  "kernelspec": {
   "display_name": ".venv",
   "language": "python",
   "name": "python3"
  },
  "language_info": {
   "codemirror_mode": {
    "name": "ipython",
    "version": 3
   },
   "file_extension": ".py",
   "mimetype": "text/x-python",
   "name": "python",
   "nbconvert_exporter": "python",
   "pygments_lexer": "ipython3",
   "version": "3.12.8"
  }
 },
 "nbformat": 4,
 "nbformat_minor": 5
}
